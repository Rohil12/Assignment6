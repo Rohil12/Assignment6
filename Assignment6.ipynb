{
 "cells": [
  {
   "cell_type": "code",
   "execution_count": 74,
   "id": "a47fdec9-237d-48bc-96df-faef0e31798e",
   "metadata": {},
   "outputs": [],
   "source": [
    "#Q.1 \n",
    "class vehicle:\n",
    "    \n",
    "    def __init__(self,name_of_vehicle,max_speed,average_of_vehichle):\n",
    "        \n",
    "        self.name_of_vehicel=name_of_vehicle\n",
    "        self.max_speed=max_speed\n",
    "        self.average_of_vehichle=average_of_vehichle"
   ]
  },
  {
   "cell_type": "code",
   "execution_count": 75,
   "id": "05c54087-caef-470c-be6d-672507496070",
   "metadata": {},
   "outputs": [],
   "source": [
    "#Q.2\n",
    "class car(vehicle):\n",
    "    def car_capacity(self,capacity):\n",
    "        return (self.name_of_vehicel,capacity)"
   ]
  },
  {
   "cell_type": "code",
   "execution_count": 76,
   "id": "70dcd7f9-798e-4998-9cd4-7f9463117e0a",
   "metadata": {},
   "outputs": [],
   "source": [
    "car=car(\"Nano\",120,12)\n"
   ]
  },
  {
   "cell_type": "code",
   "execution_count": 77,
   "id": "9793aefd-8043-4fe7-af21-2e3e3b96f210",
   "metadata": {},
   "outputs": [],
   "source": [
    "seating_info=car.car_capacity(4)"
   ]
  },
  {
   "cell_type": "code",
   "execution_count": 78,
   "id": "8e50f10d-a08c-4483-81f0-f04e752b8833",
   "metadata": {},
   "outputs": [
    {
     "data": {
      "text/plain": [
       "('Nano', 4)"
      ]
     },
     "execution_count": 78,
     "metadata": {},
     "output_type": "execute_result"
    }
   ],
   "source": [
    "seating_info"
   ]
  },
  {
   "cell_type": "code",
   "execution_count": 1,
   "id": "5e5279d9-7c8f-46c2-89b0-e6289011ed50",
   "metadata": {},
   "outputs": [],
   "source": [
    "#Q.3 Multiple inhertance is a OOPS programing feature known as inheratance that allows a class functions and methods to be inherted by another class\n",
    "#This means that a class can inherit the attributes and methods of multiple other classes "
   ]
  },
  {
   "cell_type": "code",
   "execution_count": 14,
   "id": "f3abcd82-a399-4a6b-893d-e5d176cb1461",
   "metadata": {},
   "outputs": [],
   "source": [
    "class class1:\n",
    "    def test_1(self):\n",
    "        return (\"this is class 1\")\n",
    "    "
   ]
  },
  {
   "cell_type": "code",
   "execution_count": 15,
   "id": "e8e76988-bb08-4b45-948f-790130f92ee1",
   "metadata": {},
   "outputs": [],
   "source": [
    "class class2:\n",
    "    def test_2(self):\n",
    "        return(\"this is class 2\")"
   ]
  },
  {
   "cell_type": "code",
   "execution_count": 21,
   "id": "0d5c02bb-d65e-4bd7-bb0c-2b22cf7b0dbb",
   "metadata": {},
   "outputs": [],
   "source": [
    "class class3(class1,class2):\n",
    "    def __test_3(self):\n",
    "        pass"
   ]
  },
  {
   "cell_type": "code",
   "execution_count": 22,
   "id": "2e5eeda9-d7a2-4af9-a9a5-f85aade8a7c3",
   "metadata": {},
   "outputs": [],
   "source": [
    "qu3=class3()"
   ]
  },
  {
   "cell_type": "code",
   "execution_count": 23,
   "id": "90fa7539-c079-466f-a686-661ecdf98969",
   "metadata": {},
   "outputs": [
    {
     "data": {
      "text/plain": [
       "'this is class 2'"
      ]
     },
     "execution_count": 23,
     "metadata": {},
     "output_type": "execute_result"
    }
   ],
   "source": [
    "qu3.test_2()"
   ]
  },
  {
   "cell_type": "code",
   "execution_count": 24,
   "id": "64418604-49af-4b8b-90cf-d81953005d6a",
   "metadata": {},
   "outputs": [
    {
     "data": {
      "text/plain": [
       "'this is class 1'"
      ]
     },
     "execution_count": 24,
     "metadata": {},
     "output_type": "execute_result"
    }
   ],
   "source": [
    "qu3.test_1()"
   ]
  },
  {
   "cell_type": "code",
   "execution_count": 41,
   "id": "ad3da78f-a52d-4f3e-911f-2d434aafcb96",
   "metadata": {},
   "outputs": [],
   "source": [
    "#Q.4 Getter is a method that gets the value of a specific attribute \n",
    "#    Setter is a method that sets the value of a specific attribute\n",
    "\n",
    "class pwskill23:\n",
    "    \n",
    "    def __init__(self,course_price, course_name):\n",
    "       \n",
    "        self.__course_price=course_price\n",
    "        self.course_name= course_name\n",
    "        \n",
    "    @property\n",
    "    def course_price_access(self) :\n",
    "        return self.__course_price\n",
    "    \n",
    "    @course_price_access.setter\n",
    "    def course_price_set(self,price):\n",
    "            self.__course_price = price\n",
    "    "
   ]
  },
  {
   "cell_type": "code",
   "execution_count": 1,
   "id": "d0a03dbb-91f9-4738-a75f-a33972389d4f",
   "metadata": {},
   "outputs": [],
   "source": [
    "#Q.5 Method overriding allow you the ability to ovride the object formation step to initiate a method \n",
    "\n",
    "\n",
    "class Q5:\n",
    "    \n",
    "    def __init__(self, course, price):\n",
    "        \n",
    "        self.course = course\n",
    "        self.price = price\n",
    "    \n",
    "    @classmethod\n",
    "    def details(cls, course, price ):\n",
    "        return cls(course , price)\n",
    "    "
   ]
  }
 ],
 "metadata": {
  "kernelspec": {
   "display_name": "Python 3 (ipykernel)",
   "language": "python",
   "name": "python3"
  },
  "language_info": {
   "codemirror_mode": {
    "name": "ipython",
    "version": 3
   },
   "file_extension": ".py",
   "mimetype": "text/x-python",
   "name": "python",
   "nbconvert_exporter": "python",
   "pygments_lexer": "ipython3",
   "version": "3.10.8"
  }
 },
 "nbformat": 4,
 "nbformat_minor": 5
}
